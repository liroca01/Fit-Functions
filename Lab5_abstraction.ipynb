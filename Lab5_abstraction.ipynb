{
 "cells": [
  {
   "cell_type": "markdown",
   "id": "direct-asian",
   "metadata": {},
   "source": [
    "# Lab 5. Abstraction and reusability\n",
    "#### Computational Methods for Geoscience - EPS 400/522\n",
    "#### Instructor: Eric Lindsey\n",
    "\n",
    "Due: Oct. 5, 2023\n",
    "\n",
    "---------"
   ]
  },
  {
   "cell_type": "code",
   "execution_count": 1,
   "id": "center-trail",
   "metadata": {},
   "outputs": [],
   "source": [
    "# some useful imports and settings\n",
    "import numpy as np\n",
    "import pandas as pd\n",
    "import matplotlib.pyplot as plt\n",
    "import glob\n",
    "\n",
    "# better looking figures on high-resolution screens\n",
    "%config InlineBackend.figure_format = 'retina'\n",
    "\n",
    "# reload modules if they have changed - necessary when you are editing your own module\n",
    "%load_ext autoreload\n",
    "%autoreload 2"
   ]
  },
  {
   "cell_type": "markdown",
   "id": "1a0cc41c-af4c-4539-9352-260e9eb3dee3",
   "metadata": {},
   "source": [
    "### 1. Using glob to find files\n",
    "\n",
    "The folder 'timeseries' (you will have to unzip it first) contains a set of GNSS timeseries from the UNR MAGNET site. Let's explore how 'glob' can interact with these files.\n",
    "\n",
    "1. Use glob to get a list of all the files, and print out each filename.\n",
    "\n",
    "2. The sites starting with a letter 'P' were installed under a single project called the 'Plate Boundary Observatory'. Suppose we wanted to list only those files - can you use 'glob' with wildcards to return only the list of names starting with P?"
   ]
  },
  {
   "cell_type": "code",
   "execution_count": 7,
   "id": "e030db2e-4898-4a86-a986-1f2ab70f0c27",
   "metadata": {},
   "outputs": [
    {
     "name": "stdout",
     "output_type": "stream",
     "text": [
      "All files:\n",
      "['./timeseries/CTI4.NA.tenv3', './timeseries/AZCN.NA.tenv3', './timeseries/P034.NA.tenv3', './timeseries/NMLG.NA.tenv3', './timeseries/TC01.NA.tenv3', './timeseries/P028.NA.tenv3', './timeseries/MC10.NA.tenv3', './timeseries/P029.NA.tenv3', './timeseries/SC01.NA.tenv3', './timeseries/RG01.NA.tenv3']\n",
      "------------\n",
      "Files starting with P:\n",
      "['./timeseries/P034.NA.tenv3', './timeseries/P028.NA.tenv3', './timeseries/P029.NA.tenv3']\n"
     ]
    }
   ],
   "source": [
    "import glob\n",
    "\n",
    "files = glob.glob('./timeseries/*')\n",
    "print(\"All files:\")\n",
    "print(files)\n",
    "print(\"------------\")\n",
    "print(\"Files starting with P:\")\n",
    "pfiles  = glob.glob('./timeseries/P*')\n",
    "print(pfiles)"
   ]
  },
  {
   "cell_type": "markdown",
   "id": "d2fefebe-70f9-443d-abc5-7766de048ee0",
   "metadata": {},
   "source": [
    "### 2. Write a module to interact with the GNSS timeseries\n",
    "\n",
    "The module should have (at a minimum) the following four functions with their definitions:\n",
    "\n",
    "fit_timeseries(tlist,yliglogst) - accepts two lists: t (decimal year) and y (displacement timeseries)  as 1-D numpy arrays, and returns the least-squares velocity and uncertainty for that timeseries. If possible, try to re-use the line-fitting code you wrote for Lab 3 for this purpose.\n",
    "\n",
    "fit_velocities(filename) - accepts a filename, reads in the data, and uses fit_timeseries() to estimate the E, N and U components of velocity for that site.\n",
    "\n",
    "get_coordinates(filename) - accepts a filename and returns the average latitude, longitude, and elevation for that site over the time period.\n",
    "\n",
    "fit_all_velocities(folder,pattern) - accepts a folder name and a 'glob' pattern and returns a pandas data frame with the site name, coordinates, velocities and uncertainties.\n",
    "\n",
    "Finally, import your module and demonstrate each function below to show how it works and what it returns."
   ]
  },
  {
   "cell_type": "code",
   "execution_count": 45,
   "id": "754cba95-9568-4e92-a14f-44163332110a",
   "metadata": {},
   "outputs": [
    {
     "name": "stdout",
     "output_type": "stream",
     "text": [
      "Velocities\n",
      "[1.4810321194550424, -2.490550095970904, 1.6254207867779464]\n",
      "Velocity Uncertainties\n",
      "[0.008734675398087272, 0.007194460827693166, 0.02239524152312223]\n",
      "Coordinates\n",
      "[34.94561936925882, -106.459267663182, 1810.9129044603574]\n",
      "Dataframe\n"
     ]
    },
    {
     "data": {
      "text/html": [
       "<div>\n",
       "<style scoped>\n",
       "    .dataframe tbody tr th:only-of-type {\n",
       "        vertical-align: middle;\n",
       "    }\n",
       "\n",
       "    .dataframe tbody tr th {\n",
       "        vertical-align: top;\n",
       "    }\n",
       "\n",
       "    .dataframe thead th {\n",
       "        text-align: right;\n",
       "    }\n",
       "</style>\n",
       "<table border=\"1\" class=\"dataframe\">\n",
       "  <thead>\n",
       "    <tr style=\"text-align: right;\">\n",
       "      <th></th>\n",
       "      <th>Site</th>\n",
       "      <th>Latitude</th>\n",
       "      <th>Longitude</th>\n",
       "      <th>Elevation</th>\n",
       "      <th>Velocity_E</th>\n",
       "      <th>Velocity_N</th>\n",
       "      <th>Velocity_U</th>\n",
       "      <th>Uncertainty_E</th>\n",
       "      <th>Uncertainty_N</th>\n",
       "      <th>Uncertainty_U</th>\n",
       "    </tr>\n",
       "  </thead>\n",
       "  <tbody>\n",
       "    <tr>\n",
       "      <th>0</th>\n",
       "      <td>P034.NA</td>\n",
       "      <td>34.945619</td>\n",
       "      <td>-106.459268</td>\n",
       "      <td>1810.912904</td>\n",
       "      <td>1.481032</td>\n",
       "      <td>-2.490550</td>\n",
       "      <td>1.625421</td>\n",
       "      <td>0.008735</td>\n",
       "      <td>0.007194</td>\n",
       "      <td>0.022395</td>\n",
       "    </tr>\n",
       "    <tr>\n",
       "      <th>1</th>\n",
       "      <td>P028.NA</td>\n",
       "      <td>36.031685</td>\n",
       "      <td>-107.908410</td>\n",
       "      <td>1933.112591</td>\n",
       "      <td>0.769434</td>\n",
       "      <td>-3.268581</td>\n",
       "      <td>1.422399</td>\n",
       "      <td>0.008000</td>\n",
       "      <td>0.010431</td>\n",
       "      <td>0.019561</td>\n",
       "    </tr>\n",
       "    <tr>\n",
       "      <th>2</th>\n",
       "      <td>P029.NA</td>\n",
       "      <td>38.439190</td>\n",
       "      <td>-107.638044</td>\n",
       "      <td>2455.374920</td>\n",
       "      <td>6.065410</td>\n",
       "      <td>2.191228</td>\n",
       "      <td>-3.775291</td>\n",
       "      <td>0.014633</td>\n",
       "      <td>0.014754</td>\n",
       "      <td>0.028244</td>\n",
       "    </tr>\n",
       "  </tbody>\n",
       "</table>\n",
       "</div>"
      ],
      "text/plain": [
       "      Site   Latitude   Longitude    Elevation  Velocity_E  Velocity_N  \\\n",
       "0  P034.NA  34.945619 -106.459268  1810.912904    1.481032   -2.490550   \n",
       "1  P028.NA  36.031685 -107.908410  1933.112591    0.769434   -3.268581   \n",
       "2  P029.NA  38.439190 -107.638044  2455.374920    6.065410    2.191228   \n",
       "\n",
       "   Velocity_U  Uncertainty_E  Uncertainty_N  Uncertainty_U  \n",
       "0    1.625421       0.008735       0.007194       0.022395  \n",
       "1    1.422399       0.008000       0.010431       0.019561  \n",
       "2   -3.775291       0.014633       0.014754       0.028244  "
      ]
     },
     "execution_count": 45,
     "metadata": {},
     "output_type": "execute_result"
    }
   ],
   "source": [
    "from fit_functions import *\n",
    "\n",
    "file_list = glob.glob(\"./timeseries/P*\")\n",
    "file = file_list[0]\n",
    "\n",
    "# Fit Velocity test, Returns two arrays, one with the velocities for E N U and the other with their relatives uncertainties\n",
    "velocities, velocity_uncertainties = fit_velocities(file)\n",
    "print(\"Velocities\")\n",
    "print(velocities)\n",
    "print(\"Velocity Uncertainties\")\n",
    "print(velocity_uncertainties)\n",
    "# Get coordinades test\n",
    "print(\"Coordinates\")\n",
    "coor = get_coordinates(file)\n",
    "print(coor)\n",
    "\n",
    "# Use fit all velocities to get the dataframe\n",
    "df = fit_all_velocities(\"./timeseries/\",\"P*\",\"GNSS\")\n",
    "print(\"Dataframe\")\n",
    "df"
   ]
  },
  {
   "cell_type": "markdown",
   "id": "27ff7646-860f-4a87-accd-a77e1c41d0a4",
   "metadata": {},
   "source": [
    "### 3. Upload the module to GitHub, along with a README.md file explaining briefly how to use it.\n",
    "\n",
    "Enter a link to your GitHub repository here for me to check out: \n"
   ]
  },
  {
   "cell_type": "markdown",
   "id": "141c8fb3-05cd-486f-8cac-32ff52075e84",
   "metadata": {},
   "source": [
    "https://github.com/liroca01/Fit-Functions"
   ]
  },
  {
   "cell_type": "markdown",
   "id": "e8beca1f-c264-4bb0-8bdb-393a3f1194b3",
   "metadata": {},
   "source": [
    "### 4. Use the timeseries calculation module you created\n",
    "\n",
    "Using at most 5 lines of code, import the module you created above and use it to estimate the timeseries for all 10 of the sites, print them out, and save the results to a new file 'site_velocities.csv'. Feel free to download more sites as well and put them in the folder too!\n"
   ]
  },
  {
   "cell_type": "code",
   "execution_count": 39,
   "id": "1394f71a-8eba-42d7-81a9-23c5b108a9f4",
   "metadata": {},
   "outputs": [
    {
     "name": "stdout",
     "output_type": "stream",
     "text": [
      "      Site   Latitude   Longitude    Elevation  Velocity_E  Velocity_N  \\\n",
      "0  CTI4.NA  37.152918 -107.756091  2017.964552    4.267517   -2.393618   \n",
      "1  AZCN.NA  36.839793 -107.910962  1862.938836    1.445349   -4.392997   \n",
      "2  P034.NA  34.945619 -106.459268  1810.912904    1.481032   -2.490550   \n",
      "3  NMLG.NA  35.039953 -107.372338  1763.225418    2.307364   -2.982070   \n",
      "4  TC01.NA  37.938034 -107.813333  2677.537224    1.172404   -2.787790   \n",
      "5  P028.NA  36.031685 -107.908410  1933.112591    0.769434   -3.268581   \n",
      "6  MC10.NA  38.455598 -107.878457  1808.589875    0.843920   -3.319179   \n",
      "7  P029.NA  38.439190 -107.638044  2455.374920    6.065410    2.191228   \n",
      "8  SC01.NA  34.067953 -106.966543  2097.379776    1.701050   -3.317824   \n",
      "9  RG01.NA  34.667072 -108.043813  2157.544590    1.525312   -3.080598   \n",
      "\n",
      "   Velocity_U  Uncertainty_E  Uncertainty_N  Uncertainty_U  \n",
      "0    5.619192       0.018105       0.016809       0.085348  \n",
      "1    2.666513       0.026131       0.017561       0.057022  \n",
      "2    1.625421       0.008735       0.007194       0.022395  \n",
      "3    1.142110       0.015757       0.015119       0.043790  \n",
      "4    1.549600       0.121273       0.092719       0.295330  \n",
      "5    1.422399       0.008000       0.010431       0.019561  \n",
      "6    2.940498       0.019497       0.015161       0.064741  \n",
      "7   -3.775291       0.014633       0.014754       0.028244  \n",
      "8   -0.497976       0.010109       0.009475       0.020773  \n",
      "9    3.953428       0.015009       0.017988       0.043699  \n"
     ]
    }
   ],
   "source": [
    "from fit_functions import *\n",
    "\n",
    "df = fit_all_velocities(\"./timeseries/\",\"*\" , \"GNSS\")  # Replace with your folder and pattern\n",
    "print(df)\n",
    "df.to_csv('site_velocities.csv', index=False)"
   ]
  },
  {
   "cell_type": "markdown",
   "id": "coupled-terminology",
   "metadata": {},
   "source": [
    "### 5. Re-use your module to estimate sea level rise rates\n",
    "\n",
    "Go to the following page and download at least 5 monthly sea level timeseries spanning at least 100 years: https://psmsl.org/products/gloss/glossmap.html. Place them in a new folder.\n",
    "\n",
    "(To download the data: click a station icon on the map, then click the station number/name (first link in the pop-up, e.g. \"155: Honolulu\". Then right-click the link next to the plot of monthly data (\"Download monthly mean sea level data.\") and save it as a file.)\n",
    "\n",
    "Now, create a new function \"fit_tide_gauge\" in your module that re-uses your function \"fit_timeseries\" to return the relative sea level rate of change for a given station. \n",
    "\n",
    "Next, modify your function \"fit_all_velocities\" to accept a \"type\" parameter (GNSS or tide), and re-use it to estimate the rates for all the tide gauges you downloaded. Print out the results below.\n",
    "\n",
    "Finally, update your github repository with this new version of the module.\n"
   ]
  },
  {
   "cell_type": "code",
   "execution_count": 40,
   "id": "f9dee49e-817a-47b2-af0d-fb6e811650f3",
   "metadata": {},
   "outputs": [
    {
     "name": "stdout",
     "output_type": "stream",
     "text": [
      "    Filename      Velocity\n",
      "0  data_1857  8.812918e+04\n",
      "1   data_302 -1.271453e+05\n",
      "2   data_393 -2.335134e+06\n",
      "3   data_757 -6.656522e+05\n",
      "4   data_300 -1.419962e+06\n"
     ]
    }
   ],
   "source": [
    "df = fit_all_velocities(\"./monthly/\",\"*\",\"tide\")  # Replace with your folder and pattern\n",
    "print(df)"
   ]
  },
  {
   "cell_type": "code",
   "execution_count": null,
   "id": "7e7aa8e9-527b-4daf-aab4-005e8d62e29e",
   "metadata": {},
   "outputs": [],
   "source": []
  }
 ],
 "metadata": {
  "kernelspec": {
   "display_name": "Python 3 (ipykernel)",
   "language": "python",
   "name": "python3"
  },
  "language_info": {
   "codemirror_mode": {
    "name": "ipython",
    "version": 3
   },
   "file_extension": ".py",
   "mimetype": "text/x-python",
   "name": "python",
   "nbconvert_exporter": "python",
   "pygments_lexer": "ipython3",
   "version": "3.11.4"
  }
 },
 "nbformat": 4,
 "nbformat_minor": 5
}
